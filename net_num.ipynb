{
 "cells": [
  {
   "cell_type": "code",
   "execution_count": 4,
   "metadata": {},
   "outputs": [
    {
     "name": "stdout",
     "output_type": "stream",
     "text": [
      "       country  1990  1991  1992  1993  1994   1995   1996    1997    1998  \\\n",
      "0  Afghanistan   0.0   0.0   0.0   0.0   0.0    0.0  170.0   340.0   510.0   \n",
      "1       Angola   0.0   0.0   0.0   0.0   0.0    0.0  112.0   844.0  2830.0   \n",
      "2      Albania   0.0   0.0   0.0   0.0   0.0  348.0  998.0  1510.0  2020.0   \n",
      "\n",
      "   ...       2010       2011       2012       2013       2014       2015  \\\n",
      "0  ...  1170000.0  1510000.0  1700000.0  1900000.0  2340000.0  2840000.0   \n",
      "1  ...   654000.0   751000.0  1630000.0  2320000.0  5770000.0  3460000.0   \n",
      "2  ...  1330000.0  1440000.0  1590000.0  1660000.0  1740000.0  1830000.0   \n",
      "\n",
      "        2016       2017       2018       2019  \n",
      "0  3960000.0  4900000.0  5020000.0  5140000.0  \n",
      "1  3750000.0  4280000.0  4420000.0  4560000.0  \n",
      "2  1920000.0  2070000.0  2070000.0  2010000.0  \n",
      "\n",
      "[3 rows x 31 columns]\n"
     ]
    }
   ],
   "source": [
    "import pandas as pd\n",
    "\n",
    "df = pd.read_csv(\"files/net_users_num_cleaned.csv\")\n",
    "print(df.head(3))"
   ]
  },
  {
   "cell_type": "code",
   "execution_count": 7,
   "metadata": {},
   "outputs": [
    {
     "data": {
      "text/plain": [
       "Index(['country', '1990', '1991', '1992', '1993', '1994', '1995', '1996',\n",
       "       '1997', '1998', '1999', '2000', '2001', '2002', '2003', '2004', '2005',\n",
       "       '2006', '2007', '2008', '2009', '2010', '2011', '2012', '2013', '2014',\n",
       "       '2015', '2016', '2017', '2018', '2019'],\n",
       "      dtype='object')"
      ]
     },
     "execution_count": 7,
     "metadata": {},
     "output_type": "execute_result"
    }
   ],
   "source": [
    "df.columns"
   ]
  },
  {
   "cell_type": "code",
   "execution_count": 27,
   "metadata": {},
   "outputs": [
    {
     "ename": "KeyError",
     "evalue": "1990",
     "output_type": "error",
     "traceback": [
      "\u001b[1;31m---------------------------------------------------------------------------\u001b[0m",
      "\u001b[1;31mKeyError\u001b[0m                                  Traceback (most recent call last)",
      "\u001b[1;32me:\\Python\\NetUserNum\\net_num.ipynb Cell 3\u001b[0m line \u001b[0;36m1\n\u001b[0;32m      <a href='vscode-notebook-cell:/e%3A/Python/NetUserNum/net_num.ipynb#W2sZmlsZQ%3D%3D?line=7'>8</a>\u001b[0m max_value \u001b[39m=\u001b[39m df[\u001b[39mstr\u001b[39m(first_year)]\u001b[39m.\u001b[39mmax()\n\u001b[0;32m      <a href='vscode-notebook-cell:/e%3A/Python/NetUserNum/net_num.ipynb#W2sZmlsZQ%3D%3D?line=8'>9</a>\u001b[0m country_name \u001b[39m=\u001b[39m df\u001b[39m.\u001b[39mloc[df[\u001b[39mstr\u001b[39m(first_year)]\u001b[39m.\u001b[39midxmax(), \u001b[39m'\u001b[39m\u001b[39mcountry\u001b[39m\u001b[39m'\u001b[39m]\n\u001b[1;32m---> <a href='vscode-notebook-cell:/e%3A/Python/NetUserNum/net_num.ipynb#W2sZmlsZQ%3D%3D?line=9'>10</a>\u001b[0m max_data[first_year]\u001b[39m.\u001b[39madd({\n\u001b[0;32m     <a href='vscode-notebook-cell:/e%3A/Python/NetUserNum/net_num.ipynb#W2sZmlsZQ%3D%3D?line=10'>11</a>\u001b[0m     \u001b[39m\"\u001b[39m\u001b[39mCountry\u001b[39m\u001b[39m\"\u001b[39m : country_name,\n\u001b[0;32m     <a href='vscode-notebook-cell:/e%3A/Python/NetUserNum/net_num.ipynb#W2sZmlsZQ%3D%3D?line=11'>12</a>\u001b[0m     \u001b[39m\"\u001b[39m\u001b[39mUser Num\u001b[39m\u001b[39m\"\u001b[39m : max_value,\n\u001b[0;32m     <a href='vscode-notebook-cell:/e%3A/Python/NetUserNum/net_num.ipynb#W2sZmlsZQ%3D%3D?line=12'>13</a>\u001b[0m \n\u001b[0;32m     <a href='vscode-notebook-cell:/e%3A/Python/NetUserNum/net_num.ipynb#W2sZmlsZQ%3D%3D?line=13'>14</a>\u001b[0m })\n\u001b[0;32m     <a href='vscode-notebook-cell:/e%3A/Python/NetUserNum/net_num.ipynb#W2sZmlsZQ%3D%3D?line=16'>17</a>\u001b[0m first_year \u001b[39m+\u001b[39m\u001b[39m=\u001b[39m \u001b[39m1\u001b[39m\n",
      "\u001b[1;31mKeyError\u001b[0m: 1990"
     ]
    }
   ],
   "source": [
    "max_data = {}\n",
    "first_year = 1990\n",
    "\n",
    "# for i in df.columns:\n",
    "    # print(i)\n",
    "\n",
    "while first_year <= 2019 :\n",
    "    max_value = df[str(first_year)].max()\n",
    "    country_name = df.loc[df[str(first_year)].idxmax(), 'country']\n",
    "    max_data[first_year] = {\n",
    "        \"Country\" : country_name,\n",
    "        \"User Num\" : max_value,\n",
    "\n",
    "    }\n",
    "\n",
    "\n",
    "    first_year += 1"
   ]
  }
 ],
 "metadata": {
  "language_info": {
   "name": "python"
  }
 },
 "nbformat": 4,
 "nbformat_minor": 2
}
