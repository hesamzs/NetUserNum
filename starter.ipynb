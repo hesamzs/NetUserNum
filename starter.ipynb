{
 "cells": [
  {
   "cell_type": "code",
   "execution_count": 2,
   "metadata": {},
   "outputs": [
    {
     "name": "stdout",
     "output_type": "stream",
     "text": [
      "       country 1990 1991 1992 1993 1994  1995  1996  1997  1998  ...   2010  \\\n",
      "0  Afghanistan    0    0    0    0    0     0   NaN   NaN   NaN  ...  1.17M   \n",
      "1       Angola    0    0    0    0    0     0   112   844  2830  ...   654k   \n",
      "2      Albania    0    0    0    0    0   348   998  1510  2020  ...  1.33M   \n",
      "3      Andorra    0    0    0    0    0     0   983  1960  4420  ...  68.4k   \n",
      "4          UAE    0    0    0    0    0  2490  9530   88k  194k  ...  5.81M   \n",
      "\n",
      "    2011   2012   2013   2014   2015   2016   2017   2018   2019  \n",
      "0  1.51M   1.7M   1.9M  2.34M  2.84M  3.96M   4.9M  5.02M  5.14M  \n",
      "1   751k  1.63M  2.32M  5.77M  3.46M  3.75M  4.28M  4.42M  4.56M  \n",
      "2  1.44M  1.59M  1.66M  1.74M  1.83M  1.92M  2.07M  2.07M  2.01M  \n",
      "3  67.8k  71.2k  75.9k    76k  75.6k  75.7k  70.5k  70.5k  70.6k  \n",
      "4  6.98M  7.77M  8.09M  8.33M  8.38M  8.48M     9M  9.48M  9.69M  \n",
      "\n",
      "[5 rows x 31 columns]\n"
     ]
    }
   ],
   "source": [
    "import pandas as pd\n",
    "\n",
    "df = pd.read_csv(\"files/net_users_num.csv\")\n",
    "print(df.head())\n"
   ]
  },
  {
   "cell_type": "code",
   "execution_count": 31,
   "metadata": {},
   "outputs": [
    {
     "name": "stdout",
     "output_type": "stream",
     "text": [
      "5 ردیف اول DataFrame تمیز شده:\n",
      "| country     | 1990   | 1991   | 1992   | 1993   | 1994   | 1995   | 1996   | 1997   | 1998   | 1999   | 2000   | 2001   | 2002   | 2003     | 2004     | 2005     | 2006     | 2007     | 2008     | 2009     | 2010     | 2011     | 2012     | 2013     | 2014     | 2015     | 2016     | 2017     | 2018     | 2019     |\n",
      "|:------------|:-------|:-------|:-------|:-------|:-------|:-------|:-------|:-------|:-------|:-------|:-------|:-------|:-------|:---------|:---------|:---------|:---------|:---------|:---------|:---------|:---------|:---------|:---------|:---------|:---------|:---------|:---------|:---------|:---------|:---------|\n",
      "| Afghanistan | 0      | 0      | 0      | 0      | 0      | 0      | 170    | 340    | 510    | 680    | 850    | 1020   | 1030   | 20800    | 26200    | 314000   | 557000   | 515000   | 510000   | 1.01e+06 | 1.17e+06 | 1.51e+06 | 1.7e+06  | 1.9e+06  | 2.34e+06 | 2.84e+06 | 3.96e+06 | 4.9e+06  | 5.02e+06 | 5.14e+06 |\n",
      "| Angola      | 0      | 0      | 0      | 0      | 0      | 0      | 112    | 844    | 2830   | 11400  | 17200  | 23000  | 47400  | 67200    | 87200    | 222000   | 302000   | 355000   | 412000   | 518000   | 654000   | 751000   | 1.63e+06 | 2.32e+06 | 5.77e+06 | 3.46e+06 | 3.75e+06 | 4.28e+06 | 4.42e+06 | 4.56e+06 |\n",
      "| Albania     | 0      | 0      | 0      | 0      | 0      | 348    | 998    | 1510   | 2020   | 2540   | 3570   | 10200  | 12200  | 30300    | 75200    | 187000   | 294000   | 456000   | 716000   | 1.22e+06 | 1.33e+06 | 1.44e+06 | 1.59e+06 | 1.66e+06 | 1.74e+06 | 1.83e+06 | 1.92e+06 | 2.07e+06 | 2.07e+06 | 2.01e+06 |\n",
      "| Andorra     | 0      | 0      | 0      | 0      | 0      | 0      | 983    | 1960   | 4420   | 4920   | 6890   | 7100   | 7890   | 9910     | 20500    | 29700    | 39600    | 58600    | 58700    | 66300    | 68400    | 67800    | 71200    | 75900    | 76000    | 75600    | 75700    | 70500    | 70500    | 70600    |\n",
      "| UAE         | 0      | 0      | 0      | 0      | 0      | 2490   | 9530   | 88000  | 194000 | 443000 | 740000 | 868000 | 985000 | 1.09e+06 | 1.23e+06 | 1.84e+06 | 2.76e+06 | 3.76e+06 | 4.47e+06 | 5.07e+06 | 5.81e+06 | 6.98e+06 | 7.77e+06 | 8.09e+06 | 8.33e+06 | 8.38e+06 | 8.48e+06 | 9e+06    | 9.48e+06 | 9.69e+06 |\n",
      "\n",
      "اطلاعات DataFrame تمیز شده:\n",
      "<class 'pandas.core.frame.DataFrame'>\n",
      "RangeIndex: 196 entries, 0 to 195\n",
      "Data columns (total 31 columns):\n",
      " #   Column   Non-Null Count  Dtype  \n",
      "---  ------   --------------  -----  \n",
      " 0   country  196 non-null    object \n",
      " 1   1990     196 non-null    float64\n",
      " 2   1991     196 non-null    float64\n",
      " 3   1992     196 non-null    float64\n",
      " 4   1993     196 non-null    float64\n",
      " 5   1994     196 non-null    float64\n",
      " 6   1995     196 non-null    float64\n",
      " 7   1996     196 non-null    float64\n",
      " 8   1997     196 non-null    float64\n",
      " 9   1998     196 non-null    float64\n",
      " 10  1999     196 non-null    float64\n",
      " 11  2000     196 non-null    float64\n",
      " 12  2001     196 non-null    float64\n",
      " 13  2002     196 non-null    float64\n",
      " 14  2003     196 non-null    float64\n",
      " 15  2004     196 non-null    float64\n",
      " 16  2005     196 non-null    float64\n",
      " 17  2006     196 non-null    float64\n",
      " 18  2007     196 non-null    float64\n",
      " 19  2008     196 non-null    float64\n",
      " 20  2009     196 non-null    float64\n",
      " 21  2010     196 non-null    float64\n",
      " 22  2011     196 non-null    float64\n",
      " 23  2012     196 non-null    float64\n",
      " 24  2013     196 non-null    float64\n",
      " 25  2014     196 non-null    float64\n",
      " 26  2015     196 non-null    float64\n",
      " 27  2016     196 non-null    float64\n",
      " 28  2017     196 non-null    float64\n",
      " 29  2018     196 non-null    float64\n",
      " 30  2019     196 non-null    float64\n",
      "dtypes: float64(30), object(1)\n",
      "memory usage: 47.6+ KB\n",
      "None\n"
     ]
    }
   ],
   "source": [
    "import numpy as np\n",
    "\n",
    "def convert_to_numeric(value):\n",
    "    if pd.isna(value) or value == '':\n",
    "        return np.nan\n",
    "    value = str(value).strip()\n",
    "    if 'M' in value:\n",
    "        return float(value.replace('M', '')) * 1_000_000\n",
    "    elif 'k' in value:\n",
    "        return float(value.replace('k', '')) * 1_000\n",
    "    try:\n",
    "        return float(value)\n",
    "    except ValueError:\n",
    "        return np.nan  \n",
    "\n",
    "year_columns = [col for col in df.columns if col.isdigit()]\n",
    "\n",
    "for col in year_columns:\n",
    "    df[col] = df[col].apply(convert_to_numeric)\n",
    "\n",
    "\n",
    "df_cleaned = df.copy()\n",
    "\n",
    "df_cleaned[year_columns] = df_cleaned[year_columns].interpolate(method='linear', axis=1)\n",
    "\n",
    "df_cleaned[year_columns] = df_cleaned[year_columns].ffill(axis=1)\n",
    "\n",
    "df_cleaned[year_columns] = df_cleaned[year_columns].bfill(axis=1)\n",
    "\n",
    "df_cleaned.fillna(0, inplace=True)\n",
    "\n",
    "print(\"5 ردیف اول DataFrame تمیز شده:\")\n",
    "print(df_cleaned.head().to_markdown(index=False, numalign=\"left\", stralign=\"left\"))\n",
    "\n",
    "print(\"\\nاطلاعات DataFrame تمیز شده:\")\n",
    "print(df_cleaned.info())"
   ]
  },
  {
   "cell_type": "code",
   "execution_count": 32,
   "metadata": {},
   "outputs": [],
   "source": [
    "df_cleaned.to_csv('net_users_num_cleaned.csv', index=False)"
   ]
  }
 ],
 "metadata": {
  "language_info": {
   "name": "python"
  }
 },
 "nbformat": 4,
 "nbformat_minor": 2
}
