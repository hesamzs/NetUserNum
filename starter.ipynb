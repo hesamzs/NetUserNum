{
 "cells": [
  {
   "cell_type": "code",
   "execution_count": 1,
   "metadata": {},
   "outputs": [
    {
     "name": "stdout",
     "output_type": "stream",
     "text": [
      "       country 1990 1991 1992 1993 1994  1995  1996  1997  1998  ...   2010  \\\n",
      "0  Afghanistan    0    0    0    0    0     0   NaN   NaN   NaN  ...  1.17M   \n",
      "1       Angola    0    0    0    0    0     0   112   844  2830  ...   654k   \n",
      "2      Albania    0    0    0    0    0   348   998  1510  2020  ...  1.33M   \n",
      "3      Andorra    0    0    0    0    0     0   983  1960  4420  ...  68.4k   \n",
      "4          UAE    0    0    0    0    0  2490  9530   88k  194k  ...  5.81M   \n",
      "\n",
      "    2011   2012   2013   2014   2015   2016   2017   2018   2019  \n",
      "0  1.51M   1.7M   1.9M  2.34M  2.84M  3.96M   4.9M  5.02M  5.14M  \n",
      "1   751k  1.63M  2.32M  5.77M  3.46M  3.75M  4.28M  4.42M  4.56M  \n",
      "2  1.44M  1.59M  1.66M  1.74M  1.83M  1.92M  2.07M  2.07M  2.01M  \n",
      "3  67.8k  71.2k  75.9k    76k  75.6k  75.7k  70.5k  70.5k  70.6k  \n",
      "4  6.98M  7.77M  8.09M  8.33M  8.38M  8.48M     9M  9.48M  9.69M  \n",
      "\n",
      "[5 rows x 31 columns]\n"
     ]
    }
   ],
   "source": [
    "import pandas as pd\n",
    "\n",
    "df = pd.read_csv(\"files/net_users_num.csv\")\n",
    "print(df.head())\n"
   ]
  }
 ],
 "metadata": {
  "language_info": {
   "name": "python"
  }
 },
 "nbformat": 4,
 "nbformat_minor": 2
}
